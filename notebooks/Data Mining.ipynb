{
 "cells": [
  {
   "cell_type": "markdown",
   "metadata": {},
   "source": [
    "## Парсим json-реплеи в csv\n",
    "\n",
    "В репе [MSC](https://github.com/wuhuikai/MSC/blob/master/instructions/HardWay.md#parse-replay-info) описан процесс парсинга реплеев в json-файл. Для чтения json-файлов описан следующий алгоритм:\n",
    "```python\n",
    "import json\n",
    "from google.protobuf.json_format import Parse\n",
    "from s2clientprotocol import sc2api_pb2 as sc_pb\n",
    "\n",
    "with open(REPLAY_INFO_PATH) as f:\n",
    "    info = json.load(f)\n",
    "REPLAY_PATH = info['path']\n",
    "REPLAY_INFO_PROTO = Parse(info['info'], sc_pb.ResponseReplayInfo())\n",
    "```\n",
    "**Цель** данной работы - **обработать** все существующие *json-реплеи* и сохранить их в виде *таблицы в csv-формате* для дальнейшего анализа"
   ]
  },
  {
   "cell_type": "code",
   "execution_count": null,
   "metadata": {
    "collapsed": true
   },
   "outputs": [],
   "source": [
    "import pandas as pd\n",
    "import json\n",
    "from google.protobuf.json_format import Parse\n",
    "from s2clientprotocol import sc2api_pb2 as sc_pb\n",
    "import os\n",
    "from tqdm import tnrange, tqdm_notebook\n",
    "\n",
    "REPLAY_INFOS = 'D:\\\\temp\\MSC-master\\\\MSC-master\\\\replays_infos'"
   ]
  },
  {
   "cell_type": "code",
   "execution_count": null,
   "metadata": {
    "collapsed": true
   },
   "outputs": [],
   "source": [
    "col=['map_name', 'race_p1', 'apm_p1', 'race_p2', 'apm_p2', 'win_player', 'game_loops', 'game_seconds', 'game_version', 'path']\n",
    "\n",
    "games_df = pd.DataFrame(columns=col)"
   ]
  },
  {
   "cell_type": "markdown",
   "metadata": {},
   "source": [
    "Одиночный реплей парсим следующим образом"
   ]
  },
  {
   "cell_type": "code",
   "execution_count": null,
   "metadata": {
    "collapsed": true
   },
   "outputs": [],
   "source": [
    "REPLAY = '0000e057beefc9b1e9da959ed921b24b9f0a31c63fedb8d94a1db78b58cf92c5.SC2Replay'\n",
    "REPLAY_INFO_PATH = os.path.join(REPLAY_INFOS, REPLAY)\n",
    "with open(REPLAY_INFO_PATH) as f:\n",
    "    info = json.load(f)\n",
    "replay_info = Parse(info['info'], sc_pb.ResponseReplayInfo())\n",
    "game = {\n",
    "        'map_name': replay_info.map_name, \n",
    "        'race_p1': replay_info.player_info[0].player_info.race_actual, \n",
    "        'apm_p1': replay_info.player_info[0].player_apm, \n",
    "        'race_p2': replay_info.player_info[1].player_info.race_actual, \n",
    "        'apm_p2': replay_info.player_info[1].player_apm , \n",
    "        'win_player': replay_info.player_info[0].player_result.result, \n",
    "        'game_loops': replay_info.game_duration_loops, \n",
    "        'game_seconds': replay_info.game_duration_seconds, \n",
    "        'game_version': replay_info.game_version, \n",
    "        'path': info['path']\n",
    "    }\n",
    "games_df = games_df.append(game, ignore_index=True)"
   ]
  },
  {
   "cell_type": "markdown",
   "metadata": {},
   "source": [
    "Алгоритм для всех *json-реплеев*"
   ]
  },
  {
   "cell_type": "code",
   "execution_count": null,
   "metadata": {},
   "outputs": [],
   "source": [
    "games_list = []\n",
    "for REPLAY in tqdm_notebook(os.listdir(REPLAY_INFOS), desc=\"Work\"):\n",
    "    REPLAY_INFO_PATH = os.path.join(REPLAY_INFOS, REPLAY)\n",
    "    with open(REPLAY_INFO_PATH) as f:\n",
    "        info = json.load(f)\n",
    "    replay_info = Parse(info['info'], sc_pb.ResponseReplayInfo())\n",
    "    game = {\n",
    "        'map_name': replay_info.map_name, \n",
    "        'race_p1': replay_info.player_info[0].player_info.race_actual, \n",
    "        'apm_p1': replay_info.player_info[0].player_apm, \n",
    "        'race_p2': replay_info.player_info[1].player_info.race_actual, \n",
    "        'apm_p2': replay_info.player_info[1].player_apm , \n",
    "        'win_player': replay_info.player_info[0].player_result.result, \n",
    "        'game_loops': replay_info.game_duration_loops, \n",
    "        'game_seconds': replay_info.game_duration_seconds, \n",
    "        'game_version': replay_info.game_version, \n",
    "        'path': info['path']\n",
    "    }\n",
    "    games_list.append(pd.Series(game))"
   ]
  },
  {
   "cell_type": "code",
   "execution_count": null,
   "metadata": {},
   "outputs": [],
   "source": [
    "games_list[1]"
   ]
  },
  {
   "cell_type": "code",
   "execution_count": null,
   "metadata": {
    "collapsed": true
   },
   "outputs": [],
   "source": [
    "games_df = pd.concat(games_list, axis=1).transpose()\n",
    "games_df.to_csv('test_example.csv', encoding='utf-8', sep=';')"
   ]
  }
 ],
 "metadata": {
  "kernelspec": {
   "display_name": "Python 3",
   "language": "python",
   "name": "python3"
  },
  "language_info": {
   "codemirror_mode": {
    "name": "ipython",
    "version": 3
   },
   "file_extension": ".py",
   "mimetype": "text/x-python",
   "name": "python",
   "nbconvert_exporter": "python",
   "pygments_lexer": "ipython3",
   "version": "3.6.2"
  }
 },
 "nbformat": 4,
 "nbformat_minor": 2
}
